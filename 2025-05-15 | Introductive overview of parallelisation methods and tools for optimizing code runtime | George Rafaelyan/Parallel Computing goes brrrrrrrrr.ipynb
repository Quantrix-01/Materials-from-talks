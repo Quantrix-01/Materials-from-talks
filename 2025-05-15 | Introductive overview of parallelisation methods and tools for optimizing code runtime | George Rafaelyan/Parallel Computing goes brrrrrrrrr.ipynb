{
 "cells": [
  {
   "cell_type": "code",
   "execution_count": 14,
   "id": "8e4540d3-22e6-48a2-a04c-abfa5280bb2c",
   "metadata": {
    "editable": true,
    "slideshow": {
     "slide_type": "slide"
    },
    "tags": []
   },
   "outputs": [],
   "source": [
    "import numpy as np\n",
    "import time \n",
    "\n",
    "\n",
    "np.random.seed(69)"
   ]
  },
  {
   "cell_type": "markdown",
   "id": "f1a19894-676d-45b2-ac5c-4713e77f3f94",
   "metadata": {},
   "source": [
    "# Basic optimization \n",
    "Let's start our discussion with the simple example of optimizing matrix multiplication calculation"
   ]
  },
  {
   "cell_type": "code",
   "execution_count": 2,
   "id": "4a551238-e99b-4125-8704-c749a4027f57",
   "metadata": {},
   "outputs": [],
   "source": [
    "N, M, K = 100, 50, 75\n",
    "A = np.random.rand(N, M)\n",
    "B = np.random.rand(M, K)\n",
    "C = np.zeros((N, K))"
   ]
  },
  {
   "cell_type": "code",
   "execution_count": 3,
   "id": "63bebbac-c128-4275-8d69-bd21c5488f9d",
   "metadata": {},
   "outputs": [
    {
     "name": "stdout",
     "output_type": "stream",
     "text": [
      "223 ms ± 17.6 ms per loop (mean ± std. dev. of 10 runs, 1 loop each)\n"
     ]
    }
   ],
   "source": [
    "%%timeit -r 10 -n 1\n",
    "\n",
    "for i in range(N):\n",
    "     for j in range(K):\n",
    "         for n in range(M):\n",
    "             C[i][j]+=A[i][n]*B[n][j]"
   ]
  },
  {
   "cell_type": "code",
   "execution_count": 4,
   "id": "aa2bac92-0ad5-43cc-98e6-bb8d7821ea2e",
   "metadata": {},
   "outputs": [
    {
     "name": "stdout",
     "output_type": "stream",
     "text": [
      "224 ms ± 23.4 ms per loop (mean ± std. dev. of 10 runs, 1 loop each)\n"
     ]
    }
   ],
   "source": [
    "%%timeit -r 10 -n 1\n",
    "\n",
    "for n in range(M):\n",
    "    for i in range(N):\n",
    "        for j in range(K):\n",
    "             C[i][j]+=A[i][n]*B[n][j]"
   ]
  },
  {
   "cell_type": "code",
   "execution_count": 5,
   "id": "b2269f4c-395d-4bbd-bc1d-0905eb3c8a7b",
   "metadata": {},
   "outputs": [
    {
     "name": "stdout",
     "output_type": "stream",
     "text": [
      "The slowest run took 4.53 times longer than the fastest. This could mean that an intermediate result is being cached.\n",
      "111 µs ± 34.7 µs per loop (mean ± std. dev. of 100 runs, 1 loop each)\n"
     ]
    }
   ],
   "source": [
    "%%timeit -r 100 -n 1\n",
    "\n",
    "C = A @ B"
   ]
  },
  {
   "cell_type": "markdown",
   "id": "3bd27337-6ea1-4077-92c5-6d28a8894b5b",
   "metadata": {},
   "source": [
    "$\\text{Example of a python deadlock:}$\n",
    "\n",
    "```python\n",
    "import threading\n",
    "\n",
    "lock1 = threading.Lock()\n",
    "lock2 = threading.Lock()\n",
    "\n",
    "def thread1():\n",
    "    with lock1:\n",
    "        with lock2:  # Deadlock if thread2 holds lock2\n",
    "            print(\"Thread1\")\n",
    "\n",
    "def thread2():\n",
    "    with lock2:\n",
    "        with lock1:  # Deadlock if thread1 holds lock1\n",
    "            print(\"Thread2\")\n",
    "\n",
    "t1 = threading.Thread(target=thread1)\n",
    "t2 = threading.Thread(target=thread2)\n",
    "t1.start(); t2.start()\n",
    "```"
   ]
  },
  {
   "cell_type": "code",
   "execution_count": 47,
   "id": "b904da66-74a8-4111-b8c5-1016ad5bac79",
   "metadata": {},
   "outputs": [
    {
     "name": "stdout",
     "output_type": "stream",
     "text": [
      "Hello from threadnum = 5\n",
      "Hello from threadnum = 4\n",
      "Hello from threadnum = 9\n",
      "Hello from threadnum = 8\n",
      "Hello from threadnum = 6\n",
      "Hello from threadnum = 12\n",
      "Hello from threadnum = 7\n",
      "Hello from threadnum = 11\n",
      "Hello from threadnum = 10\n",
      "Hello from threadnum = 14\n",
      "Hello from threadnum = 1\n",
      "Hello from threadnum = 13\n",
      "Hello from threadnum = 15\n",
      "Hello from threadnum = 0\n",
      "Hello from threadnum = 2\n",
      "Hello from threadnum = 3\n"
     ]
    }
   ],
   "source": [
    "query =\\\n",
    "r\"\"\"\n",
    "#include <stdio.h>\n",
    "#include <stdlib.h>\n",
    "#include <omp.h>\n",
    "\n",
    "int main(int argc, char** argv) {\n",
    "\n",
    "  int num_threads = 1;\n",
    "  // Usage:\n",
    "  if (argc < 2) {\n",
    "      printf(\"Usage: exec param\");\n",
    "      return 1;\n",
    "  }\n",
    "  else {\n",
    "      // test that argument is integer\n",
    "      num_threads = atoi(argv[1]);\n",
    "  }\n",
    "\n",
    "  omp_set_num_threads(num_threads);\n",
    "  #pragma omp parallel\n",
    "  {\n",
    "      printf(\"Hello from threadnum = %d\\n\", omp_get_thread_num());\n",
    "  }\n",
    "\n",
    "  return 0;\n",
    "}\n",
    "\n",
    "\"\"\"\n",
    "open(f\"prog.c\", 'w').write(query)\n",
    "!gcc -fopenmp .\\prog.c -o exec & .\\exec.exe 16"
   ]
  },
  {
   "cell_type": "code",
   "execution_count": 48,
   "id": "b65ac87d-a79d-4b85-8d83-5e3836e0e433",
   "metadata": {},
   "outputs": [
    {
     "name": "stdout",
     "output_type": "stream",
     "text": [
      "0\t1\t2\t3\t4\t5\t6\t7\t8\t9\t\n",
      "0\t1\t2\t3\t4\t5\t6\t7\t8\t9\t\n",
      "0\t2\t4\t6\t8\t10\t12\t14\t16\t18\t\n",
      "sum = 90\t elapsed time = 1.000166e+00 ms\n"
     ]
    }
   ],
   "source": [
    "query =\\\n",
    "r\"\"\"\n",
    "#include <stdio.h>\n",
    "#include <stdlib.h>\n",
    "#include <omp.h>\n",
    "\n",
    "#define N 10\n",
    "\n",
    "void pretty_print(int* array, int num_elems) {\n",
    "    for (int n = 0; n < num_elems; ++n) {\n",
    "        printf(\"%d\\t\", array[n]);\n",
    "    }\n",
    "    printf(\"\\n\");\n",
    "}\n",
    "\n",
    "int main(int argc, char** argv) {\n",
    "\n",
    "  int num_threads = 1;\n",
    "  // Usage:\n",
    "  if (argc < 2) {\n",
    "      printf(\"Usage: exec param\");\n",
    "      return 1;\n",
    "  }\n",
    "  else {\n",
    "      // test that argument is integer\n",
    "      num_threads = atoi(argv[1]);\n",
    "  }\n",
    "\n",
    "  omp_set_num_threads(num_threads);\n",
    "\n",
    "  int a[N];\n",
    "  int b[N];\n",
    "  int c[N];\n",
    "  int sum = 0;\n",
    "  double end = 0.;\n",
    "  double start = omp_get_wtime();\n",
    "\n",
    "  #pragma omp parallel default(none) shared(a,b,c,sum)\n",
    "  {\n",
    "      #pragma omp for nowait\n",
    "      for(int i=0; i<N; ++i) {\n",
    "          a[i] = i;\n",
    "          b[i] = i;\n",
    "          c[i] = 0;\n",
    "      }\n",
    "\n",
    "      #pragma omp for\n",
    "      for(int i=0; i<N; ++i) {\n",
    "          c[i] = a[i] + b[i];\n",
    "      }\n",
    "\n",
    "      #pragma omp for reduction(+:sum)\n",
    "      for(int i=0; i<N; ++i) {\n",
    "          sum = sum + c[i];\n",
    "      }\n",
    "  }\n",
    "  end = omp_get_wtime();\n",
    "\n",
    "\n",
    "  pretty_print(a, N);\n",
    "  pretty_print(b, N);\n",
    "  pretty_print(c, N);\n",
    "  printf(\"sum = %d\\t elapsed time = %e ms\\n\", sum, (end-start)*1e3);\n",
    "\n",
    "  return 0;\n",
    "}\n",
    "\n",
    "\"\"\"\n",
    "open(f\"prog.c\", 'w').write(query)\n",
    "!gcc -fopenmp .\\prog.c -o exec_2 & .\\exec_2.exe 4"
   ]
  },
  {
   "cell_type": "code",
   "execution_count": null,
   "id": "2b699e87-8230-42b7-b5b4-70b38a5cf7be",
   "metadata": {},
   "outputs": [],
   "source": []
  }
 ],
 "metadata": {
  "kernelspec": {
   "display_name": "Python 3 (ipykernel)",
   "language": "python",
   "name": "python3"
  },
  "language_info": {
   "codemirror_mode": {
    "name": "ipython",
    "version": 3
   },
   "file_extension": ".py",
   "mimetype": "text/x-python",
   "name": "python",
   "nbconvert_exporter": "python",
   "pygments_lexer": "ipython3",
   "version": "3.12.3"
  }
 },
 "nbformat": 4,
 "nbformat_minor": 5
}

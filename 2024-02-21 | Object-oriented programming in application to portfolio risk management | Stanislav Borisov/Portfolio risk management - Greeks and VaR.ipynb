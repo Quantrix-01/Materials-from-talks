{
 "cells": [
  {
   "cell_type": "code",
   "execution_count": 368,
   "id": "f3001727-aa33-417a-912e-4f32dbdc225d",
   "metadata": {
    "tags": []
   },
   "outputs": [],
   "source": [
    "import numpy as np\n",
    "import pandas as pd\n",
    "import math\n",
    "from scipy.stats import norm, t\n",
    "import scipy\n",
    "import matplotlib.pyplot as plt"
   ]
  },
  {
   "cell_type": "code",
   "execution_count": 286,
   "id": "ed76904a-e759-4d72-a73d-724549038011",
   "metadata": {
    "tags": []
   },
   "outputs": [],
   "source": [
    "class european_option:\n",
    "    \n",
    "    def __init__(self, spot, strike, rate, sigma, time, kind):\n",
    "        self.spot = spot\n",
    "        self.strike = strike\n",
    "        self.rate = rate\n",
    "        self.sigma = sigma\n",
    "        self.time = time\n",
    "        self.kind = kind\n",
    "        \n",
    "        self.d_1 = (math.log(self.spot / self.strike) + (self.rate + self.sigma ** 2 / 2) * self.time) / (self.sigma * math.sqrt(self.time))\n",
    "        self.d_2 = self.d_1 - self.sigma * math.sqrt(self.time)\n",
    "        \n",
    "    def price(self):\n",
    "        if self.kind == \"Call\":\n",
    "            price = self.spot * norm.cdf(self.d_1) - self.strike * math.exp(-self.rate * self.time) * norm.cdf(self.d_2)\n",
    "        elif self.kind == \"Put\":\n",
    "            price = self.strike * math.exp(-self.rate * self.time) * norm.cdf(-self.d_2) - self.spot * norm.cdf(-self.d_1)\n",
    "        else:\n",
    "            raise ValueError(\"Unavailable kind of option\")\n",
    "        return price\n",
    "    \n",
    "    def delta(self):\n",
    "        if self.kind == \"Call\":\n",
    "            delta = norm.cdf(self.d_1)\n",
    "        elif self.kind == \"Put\":\n",
    "            delta = norm.cdf(self.d_1) - 1\n",
    "        else:\n",
    "            raise ValueError(\"Unavailable kind of option\")\n",
    "        return delta\n",
    "    \n",
    "    def gamma(self):\n",
    "        gamma = norm.pdf(self.d_1) / (self.spot * self.sigma * math.sqrt(self.time))\n",
    "        return gamma\n",
    "    \n",
    "    def vega(self):\n",
    "        vega = self.spot * norm.pdf(self.d_1) * math.sqrt(self.time)\n",
    "        return vega\n",
    "    \n",
    "    def rho(self):\n",
    "        rho = self.strike * self.time * math.exp(-self.rate * self.time) * norm.cdf(self.d_2)\n",
    "        return rho\n",
    "    \n",
    "    def theta(self):\n",
    "        if self.kind == \"Call\":\n",
    "            theta = (-(self.spot * norm.pdf(self.d_1) * self.sigma) / (2 * math.sqrt(self.time)) - \n",
    "                     self.rate * self.strike * math.exp(-self.rate * self.time) * norm.cdf(self.d_2)) / self.time\n",
    "        elif self.kind == \"Put\":\n",
    "            theta = (-(self.spot * norm.pdf(self.d_1) * self.sigma) / (2 * math.sqrt(self.time)) + \n",
    "                     self.rate * self.strike * math.exp(-self.rate * self.time) * norm.cdf(-self.d_2)) / self.time\n",
    "        else:\n",
    "            raise ValueError(\"Unavailable kind of option\")\n",
    "        return theta\n",
    "    \n",
    "class underlying:\n",
    "    \n",
    "    def __init__(self, spot):\n",
    "        self.spot = spot\n",
    "        \n",
    "    def price(self):\n",
    "        return self.spot\n",
    "    \n",
    "    def delta(self):\n",
    "        return 1\n",
    "    \n",
    "    def gamma(self):\n",
    "        return 0\n",
    "    \n",
    "    def vega(self):\n",
    "        return 0\n",
    "    \n",
    "    def rho(self):\n",
    "        return 0\n",
    "    \n",
    "    def theta(self):\n",
    "        return 0\n",
    "    \n",
    "class european_binary_option:\n",
    "    \n",
    "    def __init__(self, spot, strike, rate, sigma, time, kind):\n",
    "        self.spot = spot\n",
    "        self.strike = strike\n",
    "        self.rate = rate\n",
    "        self.sigma = sigma\n",
    "        self.time = time\n",
    "        self.kind = kind\n",
    "        \n",
    "        self.d_1 = (math.log(self.spot / self.strike) + (self.rate + self.sigma ** 2 / 2) * self.time) / (self.sigma * math.sqrt(self.time))\n",
    "        self.d_2 = self.d_1 - self.sigma * math.sqrt(self.time)\n",
    "        \n",
    "        self.phi = (self.kind == \"Call\") - (self.kind == \"Put\") \n",
    "        # Analytical formulas for digital option's greeks are from https://quantpie.co.uk/bsm_bin_c_formula/bs_bin_c_summary.php\n",
    "        \n",
    "    def price(self):\n",
    "        # legacy code just to make sure that pricing is consistent\n",
    "        # for more details regarding digital options approximation see\n",
    "        # Mohamed Bouzoubaa, Adel Osseiran - Exotic_Options and_Hybrids: A Guide\n",
    "        return math.exp(-self.rate * self.time) * norm.cdf(self.phi * self.d_2)\n",
    "    \n",
    "    def price_spread(self):\n",
    "        return self.phi * 1 / (2 * 0.0001) * (european_option(self.spot, self.strike - 0.0001, self.rate, self.sigma, self.time, self.kind).price() -\n",
    "                                   european_option(self.spot, self.strike + 0.0001, self.rate, self.sigma, self.time, self.kind).price())\n",
    "    \n",
    "    def delta(self):\n",
    "        return self.phi * math.exp(-self.rate * self.time) / (self.spot * self.sigma * math.sqrt(self.time)) * norm.pdf(self.d_2)\n",
    "    \n",
    "    def delta_spread(self):\n",
    "        return self.phi * 1 / (2 * 0.0001) * (european_option(self.spot, self.strike - 0.0001, self.rate, self.sigma, self.time, self.kind).delta() -\n",
    "                                   european_option(self.spot, self.strike + 0.0001, self.rate, self.sigma, self.time, self.kind).delta())\n",
    "    \n",
    "    def gamma(self):\n",
    "        return -self.phi * math.exp(-self.rate * self.time) / ((self.spot * self.sigma * math.sqrt(self.time)) ** 2) * norm.pdf(self.d_2) * self.d_1\n",
    "    \n",
    "    def gamma_spread(self):\n",
    "        return self.phi * 1 / (2 * 0.0001) * (european_option(self.spot, self.strike - 0.0001, self.rate, self.sigma, self.time, self.kind).gamma() -\n",
    "                                   european_option(self.spot, self.strike + 0.0001, self.rate, self.sigma, self.time, self.kind).gamma())\n",
    "    \n",
    "    def vega(self):\n",
    "        return -self.phi * math.exp(-self.rate * self.time) / self.sigma * self.d_1 * norm.pdf(self.d_2)\n",
    "    \n",
    "    def vega_spread(self):\n",
    "        return self.phi * 1 / (2 * 0.0001) * (european_option(self.spot, self.strike - 0.0001, self.rate, self.sigma, self.time, self.kind).vega() -\n",
    "                                   european_option(self.spot, self.strike + 0.0001, self.rate, self.sigma, self.time, self.kind).vega())\n",
    "    \n",
    "    def rho(self):\n",
    "        return self.phi * 1 / (2 * 0.0001) * (european_option(self.spot, self.strike - 0.0001, self.rate, self.sigma, self.time, self.kind).rho() -\n",
    "                                   european_option(self.spot, self.strike + 0.0001, self.rate, self.sigma, self.time, self.kind).rho())\n",
    "    \n",
    "    def theta(self):\n",
    "        return 1 / self.time * self.phi * 1 / (2 * 0.0001) * (european_option(self.spot, self.strike - 0.0001, self.rate, self.sigma, self.time, self.kind).theta() -\n",
    "                                   european_option(self.spot, self.strike + 0.0001, self.rate, self.sigma, self.time, self.kind).theta())\n",
    "        \n",
    "class european_barrier_option:\n",
    "    \n",
    "    def __init__(self, spot, strike, barrier, rate, sigma, time, kind, barrier_kind):\n",
    "        self.spot = spot\n",
    "        self.strike = strike\n",
    "        self.barrier = barrier\n",
    "        self.rate = rate\n",
    "        self.sigma = sigma\n",
    "        self.time = time\n",
    "        self.kind = kind\n",
    "        self.barrier_kind = barrier_kind\n",
    "        \n",
    "    def price(self):\n",
    "        if self.kind == \"Call\" and self.barrier_kind == \"Out\":\n",
    "            # It is actually correct!\n",
    "            return (european_option(self.spot, self.strike, self.rate, self.sigma, self.time, self.kind).price() -\n",
    "                    european_option(self.spot, self.barrier, self.rate, self.sigma, self.time, self.kind).price() -\n",
    "                    european_binary_option(self.spot, self.barrier, self.rate, self.sigma, self.time, self.kind).price_spread() * (self.barrier - self.strike))\n",
    "\n",
    "    def price_MC(self, I):                \n",
    "        data = np.zeros((I, 2))\n",
    "        z = np.random.normal(0, 1, [1, I])\n",
    "        ST = self.spot*np.exp((self.time)*(self.rate - 0.5*self.sigma**2)+self.sigma*np.sqrt(self.time)*z)\n",
    "        data[:,1] = ST - self.strike\n",
    "        \n",
    "        if self.kind == \"Call\" and self.barrier_kind == \"Out\":\n",
    "            average = np.sum(np.amax(data, axis=1) * (ST < self.barrier))/float(I)\n",
    "            return np.exp(-self.rate*(self.time))*average\n",
    "        \n",
    "class reader:\n",
    "    \n",
    "    def __init__(self, filepath):\n",
    "        self.filepath = filepath\n",
    "        \n",
    "    def portfolio_reader(self):\n",
    "        file = pd.read_excel(self.filepath)\n",
    "        lst_amounts = []\n",
    "        lst_assets = []\n",
    "        for i in range(len(file)):\n",
    "            if file.iloc[i, 1] == \"european_option\":\n",
    "                lst_assets.append(european_option(file.iloc[i, 2], file.iloc[i, 3], file.iloc[i, 4],\n",
    "                                                  file.iloc[i, 5], file.iloc[i, 6], file.iloc[i, 7]))\n",
    "            elif file.iloc[i, 1] == \"underlying\":\n",
    "                lst_assets.append(underlying(file.iloc[i, 2]))\n",
    "                \n",
    "            elif file.iloc[i, 1] == \"european_binary_option\":\n",
    "                lst_assets.append(european_binary_option(file.iloc[i, 2], file.iloc[i, 3], file.iloc[i, 4],\n",
    "                                                  file.iloc[i, 5], file.iloc[i, 6], file.iloc[i, 7]))\n",
    "                \n",
    "            else:\n",
    "                raise ValueError(\"Unavailable type of asset\")\n",
    "            if file.iloc[i, 8] == file.iloc[i, 8]:\n",
    "                lst_amounts.append(file.iloc[i, 8])\n",
    "            else:\n",
    "                raise ValueError(\"Wrong weight!\")\n",
    "        return [lst_assets, lst_amounts]\n",
    "    \n",
    "    def market_data_reader(self):\n",
    "        RVI = pd.read_excel(self.filepath, 0)\n",
    "        stock = pd.read_excel(self.filepath, 1)\n",
    "        \n",
    "        rvi_time_series = RVI.iloc[:,1]\n",
    "        stock_time_series = stock.iloc[:,1]\n",
    "        \n",
    "        rvi_returns = rvi_time_series.pct_change(1)[1:]\n",
    "        stock_returns = stock_time_series.pct_change(1)[1:]\n",
    "        \n",
    "        return [rvi_returns, stock_returns, rvi_time_series, stock_time_series]\n",
    "    \n",
    "class portfolio:\n",
    "    \n",
    "    def __init__(self):\n",
    "        self.lst_assets = reader(\"portfolio.xlsx\").portfolio_reader()[0]\n",
    "        self.lst_amounts = reader(\"portfolio.xlsx\").portfolio_reader()[1]\n",
    "        self.weights = list(np.array(self.lst_amounts) / np.array(self.lst_amounts).sum())\n",
    "        \n",
    "    def price(self):\n",
    "        return np.array(self.lst_amounts).sum()\n",
    "    \n",
    "    def delta(self):\n",
    "        sum = 0\n",
    "        for i in range(len(self.lst_assets)):\n",
    "            sum += self.lst_assets[i].delta() * self.weights[i]\n",
    "        return sum\n",
    "        \n",
    "    def gamma(self):\n",
    "        sum = 0\n",
    "        for i in range(len(self.lst_assets)):\n",
    "            sum += self.lst_assets[i].gamma() * self.weights[i]\n",
    "        return sum\n",
    "    \n",
    "    def vega(self):\n",
    "        sum = 0\n",
    "        for i in range(len(self.lst_assets)):\n",
    "            sum += self.lst_assets[i].vega() * self.weights[i]\n",
    "        return sum\n",
    "    \n",
    "    def rho(self):\n",
    "        sum = 0\n",
    "        for i in range(len(self.lst_assets)):\n",
    "            sum += self.lst_assets[i].rho() * self.weights[i]\n",
    "        return sum\n",
    "    \n",
    "    def theta(self):\n",
    "        sum = 0\n",
    "        for i in range(len(self.lst_assets)):\n",
    "            sum += self.lst_assets[i].theta() * self.weights[i]\n",
    "        return sum"
   ]
  },
  {
   "cell_type": "code",
   "execution_count": 225,
   "id": "fc173691-81aa-454b-8838-60b9c685b9d5",
   "metadata": {
    "tags": []
   },
   "outputs": [
    {
     "data": {
      "text/plain": [
       "[[<__main__.underlying at 0x17515657d90>,\n",
       "  <__main__.european_option at 0x17513560150>,\n",
       "  <__main__.european_option at 0x17513563290>,\n",
       "  <__main__.european_binary_option at 0x17513561150>,\n",
       "  <__main__.european_option at 0x17510e0db50>,\n",
       "  <__main__.european_option at 0x17511d90d10>],\n",
       " [1000000, 350000, -350000, -350000, 800000, -300000]]"
      ]
     },
     "execution_count": 225,
     "metadata": {},
     "output_type": "execute_result"
    }
   ],
   "source": [
    "reader(\"portfolio.xlsx\").portfolio_reader()"
   ]
  },
  {
   "cell_type": "code",
   "execution_count": 226,
   "id": "5b389081-a917-49c9-8e71-984ee8c02fd0",
   "metadata": {
    "tags": []
   },
   "outputs": [
    {
     "name": "stdout",
     "output_type": "stream",
     "text": [
      "Value of a portfolio: 1150000 \n",
      "Delta of a portfolio: 0.80608 \n",
      "Gamma of a portfolio: 0.00026 \n",
      "Vega of a portfolio: 306.67314 \n",
      "Theta of a portfolio: -69.48511 \n",
      "Rho of a portfolio: 438.34688\n"
     ]
    }
   ],
   "source": [
    "print(f\"Value of a portfolio: {portfolio().price()} \\nDelta of a portfolio: {round(portfolio().delta(),5)} \\nGamma of a portfolio: {round(portfolio().gamma(),5)} \\nVega of a portfolio: {round(portfolio().vega(),5)} \\nTheta of a portfolio: {round(portfolio().theta(),5)} \\nRho of a portfolio: {round(portfolio().rho(),5)}\")"
   ]
  },
  {
   "cell_type": "markdown",
   "id": "112ec769-5da0-443d-83d9-07c3fbb4007b",
   "metadata": {},
   "source": [
    "## Now, lets make use of these portfolio sensitivities"
   ]
  },
  {
   "cell_type": "markdown",
   "id": "172aa761-9982-4da4-a065-17513f21a1bb",
   "metadata": {
    "tags": []
   },
   "source": [
    "Delta approach:"
   ]
  },
  {
   "cell_type": "code",
   "execution_count": 354,
   "id": "44777041-91e4-49f4-bb56-1319a07f7647",
   "metadata": {
    "tags": []
   },
   "outputs": [
    {
     "data": {
      "text/plain": [
       "18502.609969526715"
      ]
     },
     "execution_count": 354,
     "metadata": {},
     "output_type": "execute_result"
    }
   ],
   "source": [
    "h = portfolio()\n",
    "stock_returns = np.array(reader(\"market_data.xlsx\").market_data_reader()[1])\n",
    "PnL_returns_delta = h.price() * h.delta() * stock_returns\n",
    "PnL_returns_delta[0]"
   ]
  },
  {
   "cell_type": "markdown",
   "id": "6b2d98f4-5ae4-42f5-9c3a-05487277f834",
   "metadata": {},
   "source": [
    "Delta-Gamma approach:"
   ]
  },
  {
   "cell_type": "code",
   "execution_count": 300,
   "id": "a20802fc-e8e3-46af-b658-09a9d08288fb",
   "metadata": {
    "tags": []
   },
   "outputs": [
    {
     "data": {
      "text/plain": [
       "16949.150609128857"
      ]
     },
     "execution_count": 300,
     "metadata": {},
     "output_type": "execute_result"
    }
   ],
   "source": [
    "PnL_returns_delta_gamma = h.price() * (h.delta() * stock_returns + \n",
    "                                       h.gamma() / 2 *  stock_returns ** 2)\n",
    "PnL_returns_delta_gamma[0]"
   ]
  },
  {
   "cell_type": "markdown",
   "id": "3fda3acd-9173-4fe5-9e82-75c3917f82f5",
   "metadata": {},
   "source": [
    "Delta-Gamma-Vega approach:"
   ]
  },
  {
   "cell_type": "code",
   "execution_count": 362,
   "id": "8757974a-0db1-4c03-932a-eda1bd62dab9",
   "metadata": {
    "tags": []
   },
   "outputs": [
    {
     "data": {
      "text/plain": [
       "18499.90925917689"
      ]
     },
     "execution_count": 362,
     "metadata": {},
     "output_type": "execute_result"
    }
   ],
   "source": [
    "rvi_returns = np.array(reader(\"market_data.xlsx\").market_data_reader()[0])\n",
    "PnL_returns_delta_gamma_vega = h.price() * (h.delta() * stock_returns + \n",
    "                                            h.gamma() / 2 *  stock_returns ** 2) + h.vega() * rvi_returns\n",
    "PnL_returns_delta_gamma_vega[0]"
   ]
  },
  {
   "cell_type": "markdown",
   "id": "99b8578e-c2d3-4f28-a46a-0bfb7ddc11e0",
   "metadata": {},
   "source": [
    "Full revaluation approach:"
   ]
  },
  {
   "cell_type": "code",
   "execution_count": 378,
   "id": "1bc7ce4a-ca61-4eca-a13a-5624382660e1",
   "metadata": {
    "tags": []
   },
   "outputs": [],
   "source": [
    "portfolio_representation = reader(\"portfolio.xlsx\").portfolio_reader()\n",
    "market_data = reader(\"market_data.xlsx\").market_data_reader()\n",
    "\n",
    "aggregate_instument_values = []\n",
    "\n",
    "for i in range(len(portfolio_representation[0])):\n",
    "    if portfolio_representation[0][i].__class__.__name__ == 'european_option':\n",
    "        instrument_values = []\n",
    "        original_number = portfolio_representation[1][i] / portfolio_representation[0][i].price()\n",
    "        for j in range(1, len(market_data[3])):\n",
    "            \n",
    "            new_price = european_option(market_data[3][j], portfolio_representation[0][i].strike, portfolio_representation[0][i].rate, \n",
    "                                        market_data[2][j] / 100, portfolio_representation[0][i].time, portfolio_representation[0][i].kind).price()\n",
    "\n",
    "            old_price = european_option(market_data[3][j-1], portfolio_representation[0][i].strike, portfolio_representation[0][i].rate, \n",
    "                                        market_data[2][j-1] / 100, portfolio_representation[0][i].time, portfolio_representation[0][i].kind).price()\n",
    "            \n",
    "            instrument_values.append(original_number * (new_price - old_price))  \n",
    "            \n",
    "        aggregate_instument_values.append(instrument_values)\n",
    "        \n",
    "    elif portfolio_representation[0][i].__class__.__name__ == 'european_binary_option':\n",
    "        instrument_values = []\n",
    "        original_number = portfolio_representation[1][i] / portfolio_representation[0][i].price()\n",
    "        for j in range(1, len(market_data[3])):\n",
    "            \n",
    "            new_price = european_binary_option(market_data[3][j], portfolio_representation[0][i].strike, portfolio_representation[0][i].rate, \n",
    "                                        market_data[2][j] / 100, portfolio_representation[0][i].time, portfolio_representation[0][i].kind).price()\n",
    "\n",
    "            old_price = european_binary_option(market_data[3][j-1], portfolio_representation[0][i].strike, portfolio_representation[0][i].rate, \n",
    "                                        market_data[2][j-1] / 100, portfolio_representation[0][i].time, portfolio_representation[0][i].kind).price()\n",
    "            \n",
    "            instrument_values.append(original_number * (new_price - old_price))  \n",
    "            \n",
    "        aggregate_instument_values.append(instrument_values)\n",
    "        \n",
    "    else:\n",
    "        instrument_values = []\n",
    "        original_number = portfolio_representation[1][i] / portfolio_representation[0][i].price()\n",
    "        for j in range(1, len(market_data[3])):\n",
    "            new_price = underlying(market_data[3][j]).price()\n",
    "            old_price = underlying(market_data[3][j-1]).price()\n",
    "            instrument_values.append(original_number * (new_price - old_price))\n",
    "        aggregate_instument_values.append(instrument_values)   \n",
    "        \n",
    "PnL_returns_full_reval = pd.DataFrame(aggregate_instument_values).sum(axis = 0)"
   ]
  },
  {
   "cell_type": "code",
   "execution_count": 352,
   "id": "d38728e4-72a8-4880-8e81-f1f07e8e4d90",
   "metadata": {
    "tags": []
   },
   "outputs": [
    {
     "data": {
      "text/html": [
       "<div>\n",
       "<style scoped>\n",
       "    .dataframe tbody tr th:only-of-type {\n",
       "        vertical-align: middle;\n",
       "    }\n",
       "\n",
       "    .dataframe tbody tr th {\n",
       "        vertical-align: top;\n",
       "    }\n",
       "\n",
       "    .dataframe thead th {\n",
       "        text-align: right;\n",
       "    }\n",
       "</style>\n",
       "<table border=\"1\" class=\"dataframe\">\n",
       "  <thead>\n",
       "    <tr style=\"text-align: right;\">\n",
       "      <th></th>\n",
       "      <th>0</th>\n",
       "      <th>1</th>\n",
       "      <th>2</th>\n",
       "      <th>3</th>\n",
       "      <th>4</th>\n",
       "      <th>5</th>\n",
       "      <th>6</th>\n",
       "      <th>7</th>\n",
       "      <th>8</th>\n",
       "      <th>9</th>\n",
       "      <th>...</th>\n",
       "      <th>243</th>\n",
       "      <th>244</th>\n",
       "      <th>245</th>\n",
       "      <th>246</th>\n",
       "      <th>247</th>\n",
       "      <th>248</th>\n",
       "      <th>249</th>\n",
       "      <th>250</th>\n",
       "      <th>251</th>\n",
       "      <th>252</th>\n",
       "    </tr>\n",
       "  </thead>\n",
       "  <tbody>\n",
       "    <tr>\n",
       "      <th>0</th>\n",
       "      <td>10802.003500</td>\n",
       "      <td>-4043.208014</td>\n",
       "      <td>1870.738036</td>\n",
       "      <td>6276.024380</td>\n",
       "      <td>2293.162754</td>\n",
       "      <td>5672.560497</td>\n",
       "      <td>-19009.112305</td>\n",
       "      <td>4043.208014</td>\n",
       "      <td>-3379.397743</td>\n",
       "      <td>-3379.397743</td>\n",
       "      <td>...</td>\n",
       "      <td>18586.687587</td>\n",
       "      <td>65294.792107</td>\n",
       "      <td>-5672.560497</td>\n",
       "      <td>-4767.364673</td>\n",
       "      <td>4284.593567</td>\n",
       "      <td>52018.586688</td>\n",
       "      <td>-11345.120995</td>\n",
       "      <td>1448.313318</td>\n",
       "      <td>-8207.108805</td>\n",
       "      <td>-31018.043570</td>\n",
       "    </tr>\n",
       "    <tr>\n",
       "      <th>1</th>\n",
       "      <td>-5621.297523</td>\n",
       "      <td>-27937.883260</td>\n",
       "      <td>-4767.106844</td>\n",
       "      <td>10192.686022</td>\n",
       "      <td>17154.519112</td>\n",
       "      <td>-16138.842727</td>\n",
       "      <td>-12863.461723</td>\n",
       "      <td>-6551.579970</td>\n",
       "      <td>-15639.925429</td>\n",
       "      <td>-19243.555935</td>\n",
       "      <td>...</td>\n",
       "      <td>28768.027564</td>\n",
       "      <td>39308.540063</td>\n",
       "      <td>-30423.294908</td>\n",
       "      <td>40804.554486</td>\n",
       "      <td>77749.759883</td>\n",
       "      <td>92943.093316</td>\n",
       "      <td>-36687.074573</td>\n",
       "      <td>32327.336495</td>\n",
       "      <td>-18707.586824</td>\n",
       "      <td>-50212.254813</td>\n",
       "    </tr>\n",
       "    <tr>\n",
       "      <th>2</th>\n",
       "      <td>6816.868422</td>\n",
       "      <td>31296.754495</td>\n",
       "      <td>5339.830089</td>\n",
       "      <td>-11124.507585</td>\n",
       "      <td>-19196.434036</td>\n",
       "      <td>18328.054743</td>\n",
       "      <td>13684.073717</td>\n",
       "      <td>7313.113485</td>\n",
       "      <td>16821.454646</td>\n",
       "      <td>19912.335061</td>\n",
       "      <td>...</td>\n",
       "      <td>-29031.121657</td>\n",
       "      <td>-25453.599658</td>\n",
       "      <td>33954.955896</td>\n",
       "      <td>-50799.709521</td>\n",
       "      <td>-92987.323298</td>\n",
       "      <td>-94827.684676</td>\n",
       "      <td>41227.783699</td>\n",
       "      <td>-40363.018058</td>\n",
       "      <td>20074.161523</td>\n",
       "      <td>50721.095100</td>\n",
       "    </tr>\n",
       "    <tr>\n",
       "      <th>3</th>\n",
       "      <td>715.904964</td>\n",
       "      <td>14186.265233</td>\n",
       "      <td>2451.576979</td>\n",
       "      <td>-6385.961312</td>\n",
       "      <td>-8809.844785</td>\n",
       "      <td>7226.891209</td>\n",
       "      <td>9457.631870</td>\n",
       "      <td>3493.240292</td>\n",
       "      <td>10889.023784</td>\n",
       "      <td>16561.594080</td>\n",
       "      <td>...</td>\n",
       "      <td>-28324.421054</td>\n",
       "      <td>-92578.474233</td>\n",
       "      <td>19414.560176</td>\n",
       "      <td>-5960.195078</td>\n",
       "      <td>-20220.522779</td>\n",
       "      <td>-88260.994606</td>\n",
       "      <td>19443.235650</td>\n",
       "      <td>-438.428598</td>\n",
       "      <td>13703.404406</td>\n",
       "      <td>49585.062329</td>\n",
       "    </tr>\n",
       "    <tr>\n",
       "      <th>4</th>\n",
       "      <td>-102250.826324</td>\n",
       "      <td>-10051.640068</td>\n",
       "      <td>-24094.813804</td>\n",
       "      <td>-37959.197665</td>\n",
       "      <td>8233.790500</td>\n",
       "      <td>-75634.563127</td>\n",
       "      <td>144355.327977</td>\n",
       "      <td>-46111.064452</td>\n",
       "      <td>3928.223894</td>\n",
       "      <td>-2275.747388</td>\n",
       "      <td>...</td>\n",
       "      <td>-40605.826106</td>\n",
       "      <td>-143389.988849</td>\n",
       "      <td>-5020.624714</td>\n",
       "      <td>28339.912525</td>\n",
       "      <td>46189.493112</td>\n",
       "      <td>-58742.444078</td>\n",
       "      <td>1748.702078</td>\n",
       "      <td>14509.732856</td>\n",
       "      <td>6389.840737</td>\n",
       "      <td>43984.284718</td>\n",
       "    </tr>\n",
       "    <tr>\n",
       "      <th>5</th>\n",
       "      <td>350501.155826</td>\n",
       "      <td>215343.810350</td>\n",
       "      <td>110605.565820</td>\n",
       "      <td>40578.412399</td>\n",
       "      <td>-137739.614232</td>\n",
       "      <td>335805.125084</td>\n",
       "      <td>-345686.448717</td>\n",
       "      <td>196372.268836</td>\n",
       "      <td>139303.738542</td>\n",
       "      <td>272889.635956</td>\n",
       "      <td>...</td>\n",
       "      <td>21985.614899</td>\n",
       "      <td>68695.092712</td>\n",
       "      <td>1042.146175</td>\n",
       "      <td>-7327.927023</td>\n",
       "      <td>-32581.128290</td>\n",
       "      <td>30818.772363</td>\n",
       "      <td>464.954848</td>\n",
       "      <td>-9631.540661</td>\n",
       "      <td>-2943.595769</td>\n",
       "      <td>-27878.917135</td>\n",
       "    </tr>\n",
       "  </tbody>\n",
       "</table>\n",
       "<p>6 rows × 253 columns</p>\n",
       "</div>"
      ],
      "text/plain": [
       "             0              1              2             3              4    \\\n",
       "0   10802.003500   -4043.208014    1870.738036   6276.024380    2293.162754   \n",
       "1   -5621.297523  -27937.883260   -4767.106844  10192.686022   17154.519112   \n",
       "2    6816.868422   31296.754495    5339.830089 -11124.507585  -19196.434036   \n",
       "3     715.904964   14186.265233    2451.576979  -6385.961312   -8809.844785   \n",
       "4 -102250.826324  -10051.640068  -24094.813804 -37959.197665    8233.790500   \n",
       "5  350501.155826  215343.810350  110605.565820  40578.412399 -137739.614232   \n",
       "\n",
       "             5              6              7              8              9    \\\n",
       "0    5672.560497  -19009.112305    4043.208014   -3379.397743   -3379.397743   \n",
       "1  -16138.842727  -12863.461723   -6551.579970  -15639.925429  -19243.555935   \n",
       "2   18328.054743   13684.073717    7313.113485   16821.454646   19912.335061   \n",
       "3    7226.891209    9457.631870    3493.240292   10889.023784   16561.594080   \n",
       "4  -75634.563127  144355.327977  -46111.064452    3928.223894   -2275.747388   \n",
       "5  335805.125084 -345686.448717  196372.268836  139303.738542  272889.635956   \n",
       "\n",
       "   ...           243            244           245           246           247  \\\n",
       "0  ...  18586.687587   65294.792107  -5672.560497  -4767.364673   4284.593567   \n",
       "1  ...  28768.027564   39308.540063 -30423.294908  40804.554486  77749.759883   \n",
       "2  ... -29031.121657  -25453.599658  33954.955896 -50799.709521 -92987.323298   \n",
       "3  ... -28324.421054  -92578.474233  19414.560176  -5960.195078 -20220.522779   \n",
       "4  ... -40605.826106 -143389.988849  -5020.624714  28339.912525  46189.493112   \n",
       "5  ...  21985.614899   68695.092712   1042.146175  -7327.927023 -32581.128290   \n",
       "\n",
       "            248           249           250           251           252  \n",
       "0  52018.586688 -11345.120995   1448.313318  -8207.108805 -31018.043570  \n",
       "1  92943.093316 -36687.074573  32327.336495 -18707.586824 -50212.254813  \n",
       "2 -94827.684676  41227.783699 -40363.018058  20074.161523  50721.095100  \n",
       "3 -88260.994606  19443.235650   -438.428598  13703.404406  49585.062329  \n",
       "4 -58742.444078   1748.702078  14509.732856   6389.840737  43984.284718  \n",
       "5  30818.772363    464.954848  -9631.540661  -2943.595769 -27878.917135  \n",
       "\n",
       "[6 rows x 253 columns]"
      ]
     },
     "execution_count": 352,
     "metadata": {},
     "output_type": "execute_result"
    }
   ],
   "source": [
    "pd.DataFrame(aggregate_instument_values)"
   ]
  },
  {
   "cell_type": "code",
   "execution_count": 380,
   "id": "6785c496-3b7d-45fe-8e1f-601f8904cd37",
   "metadata": {
    "tags": []
   },
   "outputs": [
    {
     "data": {
      "text/plain": [
       "<matplotlib.legend.Legend at 0x17516d057d0>"
      ]
     },
     "execution_count": 380,
     "metadata": {},
     "output_type": "execute_result"
    },
    {
     "data": {
      "image/png": "[encoded data removed]",
      "text/plain": [
       "<Figure size 640x480 with 1 Axes>"
      ]
     },
     "metadata": {},
     "output_type": "display_data"
    }
   ],
   "source": [
    "plt.plot(np.arange(0,len(PnL_returns_full_reval)), PnL_returns_full_reval, label = \"Full revaluation approach\")\n",
    "plt.plot(np.arange(0,len(PnL_returns_delta)), PnL_returns_delta_gamma_vega, label = \"Delta-Gamma-Vega approach\")\n",
    "# plt.plot(np.arange(0,len(PnL_returns_delta)), PnL_returns_delta, label = \"Delta approach\")\n",
    "plt.legend()"
   ]
  },
  {
   "cell_type": "code",
   "execution_count": 73,
   "id": "199902d4-d43b-43ac-91c1-bbf18709c640",
   "metadata": {
    "tags": []
   },
   "outputs": [
    {
     "name": "stdout",
     "output_type": "stream",
     "text": [
      "0.9317614993231618\n",
      "0.9326104777871009\n"
     ]
    }
   ],
   "source": [
    "print(european_barrier_option(100, 110, 120, 0.1, 0.15, 1, \"Call\", \"Out\").price_MC(1000000))\n",
    "print(european_barrier_option(100, 110, 120, 0.1, 0.15, 1, \"Call\", \"Out\").price())\n"
   ]
  },
  {
   "cell_type": "code",
   "execution_count": 373,
   "id": "db18c5ed-404d-49e8-b619-96ab03d0c6a6",
   "metadata": {
    "tags": []
   },
   "outputs": [
    {
     "name": "stdout",
     "output_type": "stream",
     "text": [
      "-0.25548545365070735\n",
      "0.024042189672446312\n"
     ]
    }
   ],
   "source": [
    "print(european_binary_option(100, 110, 0.1, 0.15, 1, \"Call\").vega())\n",
    "print(european_binary_option(100, 110, 0.1, 0.15, 1, \"Call\").delta_spread())"
   ]
  },
  {
   "cell_type": "markdown",
   "id": "240389ee-5ac2-44d7-8a66-880091a739f4",
   "metadata": {},
   "source": [
    "# VaR"
   ]
  },
  {
   "cell_type": "markdown",
   "id": "b275d230-5abd-4afa-afa3-665b3ac2dfdf",
   "metadata": {},
   "source": [
    "### Historic"
   ]
  },
  {
   "cell_type": "code",
   "execution_count": 365,
   "id": "def83b52-65ab-464e-9e86-f19436c6c24b",
   "metadata": {
    "tags": []
   },
   "outputs": [
    {
     "data": {
      "text/plain": [
       "238369.11630367194"
      ]
     },
     "execution_count": 365,
     "metadata": {},
     "output_type": "execute_result"
    }
   ],
   "source": [
    "VaR = -np.quantile(PnL_returns_full_reval, .05)\n",
    "VaR"
   ]
  },
  {
   "cell_type": "markdown",
   "id": "8d287bed-0e32-474b-982a-52de67fa2752",
   "metadata": {},
   "source": [
    "### Parametric (Normal)"
   ]
  },
  {
   "cell_type": "code",
   "execution_count": 367,
   "id": "f4d653b1-1ad0-48ad-8d99-125ea11de78c",
   "metadata": {
    "tags": []
   },
   "outputs": [
    {
     "data": {
      "text/plain": [
       "258571.79818777388"
      ]
     },
     "execution_count": 367,
     "metadata": {},
     "output_type": "execute_result"
    }
   ],
   "source": [
    "VaR = -norm.ppf(.05, PnL_returns_full_reval.mean(), PnL_returns_full_reval.std())\n",
    "VaR"
   ]
  },
  {
   "cell_type": "markdown",
   "id": "19d26b04-6732-4a76-9bf1-5054f2b31e8e",
   "metadata": {},
   "source": [
    "### Parametric (Student)"
   ]
  },
  {
   "cell_type": "code",
   "execution_count": 369,
   "id": "020bbe52-31fb-407d-8b46-df68fc434c40",
   "metadata": {
    "tags": []
   },
   "outputs": [
    {
     "data": {
      "text/plain": [
       "259569.4255044755"
      ]
     },
     "execution_count": 369,
     "metadata": {},
     "output_type": "execute_result"
    }
   ],
   "source": [
    "VaR = -t.ppf(.05, len(PnL_returns_full_reval) - 1, PnL_returns_full_reval.mean(), PnL_returns_full_reval.std())\n",
    "VaR"
   ]
  }
 ],
 "metadata": {
  "kernelspec": {
   "display_name": "Python 3 (ipykernel)",
   "language": "python",
   "name": "python3"
  },
  "language_info": {
   "codemirror_mode": {
    "name": "ipython",
    "version": 3
   },
   "file_extension": ".py",
   "mimetype": "text/x-python",
   "name": "python",
   "nbconvert_exporter": "python",
   "pygments_lexer": "ipython3",
   "version": "3.11.5"
  }
 },
 "nbformat": 4,
 "nbformat_minor": 5
}
